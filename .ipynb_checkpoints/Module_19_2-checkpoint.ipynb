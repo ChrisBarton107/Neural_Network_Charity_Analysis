{
 "cells": [
  {
   "cell_type": "code",
   "execution_count": 1,
   "id": "facial-fifteen",
   "metadata": {},
   "outputs": [],
   "source": [
    "# Import our dependencies\n",
    "import pandas as pd\n",
    "import matplotlib as plt\n",
    "from sklearn.datasets import make_blobs\n",
    "import sklearn as skl\n",
    "import tensorflow as tf "
   ]
  },
  {
   "cell_type": "code",
   "execution_count": 2,
   "id": "processed-packet",
   "metadata": {},
   "outputs": [],
   "source": [
    "#pip install tensorflow "
   ]
  },
  {
   "cell_type": "code",
   "execution_count": 3,
   "id": "abroad-shelf",
   "metadata": {},
   "outputs": [
    {
     "data": {
      "text/plain": [
       "<matplotlib.axes._subplots.AxesSubplot at 0x7fee18c23290>"
      ]
     },
     "execution_count": 3,
     "metadata": {},
     "output_type": "execute_result"
    },
    {
     "data": {
      "image/png": "[encoded data removed]",
      "text/plain": [
       "<Figure size 432x288 with 2 Axes>"
      ]
     },
     "metadata": {
      "needs_background": "light"
     },
     "output_type": "display_data"
    }
   ],
   "source": [
    "# Generate dummy dataset\n",
    "X, y = make_blobs(n_samples=1000, centers=2, n_features=2, random_state=78)\n",
    "\n",
    "# Creating a DataFrame with the dummy data\n",
    "df = pd.DataFrame(X, columns=[\"Feature 1\", \"Feature 2\"])\n",
    "df[\"Target\"] = y\n",
    "\n",
    "# Plotting the dummy data\n",
    "df.plot.scatter(x=\"Feature 1\", y=\"Feature 2\", c=\"Target\", colormap=\"winter\") "
   ]
  },
  {
   "cell_type": "code",
   "execution_count": 4,
   "id": "vulnerable-startup",
   "metadata": {},
   "outputs": [],
   "source": [
    "# Use sklearn to split dataset\n",
    "from sklearn.model_selection import train_test_split\n",
    "X_train, X_test, y_train, y_test = train_test_split(X, y, random_state=78) "
   ]
  },
  {
   "cell_type": "code",
   "execution_count": 5,
   "id": "imported-profit",
   "metadata": {},
   "outputs": [],
   "source": [
    "# Create scaler instance\n",
    "X_scaler = skl.preprocessing.StandardScaler()\n",
    "\n",
    "# Fit the scaler\n",
    "X_scaler.fit(X_train)\n",
    "\n",
    "# Scale the data\n",
    "X_train_scaled = X_scaler.transform(X_train)\n",
    "X_test_scaled = X_scaler.transform(X_test) "
   ]
  },
  {
   "cell_type": "code",
   "execution_count": 6,
   "id": "flexible-joint",
   "metadata": {},
   "outputs": [],
   "source": [
    "# Create the Keras Sequential model\n",
    "nn_model = tf.keras.models.Sequential()"
   ]
  },
  {
   "cell_type": "code",
   "execution_count": 7,
   "id": "hidden-newfoundland",
   "metadata": {},
   "outputs": [],
   "source": [
    "# Add our first Dense layer, including the input layer\n",
    "nn_model.add(tf.keras.layers.Dense(units=1, activation=\"relu\", input_dim=2)) "
   ]
  },
  {
   "cell_type": "code",
   "execution_count": 8,
   "id": "interstate-moderator",
   "metadata": {},
   "outputs": [],
   "source": [
    "# Add the output layer that uses a probability activation function\n",
    "nn_model.add(tf.keras.layers.Dense(units=1, activation=\"sigmoid\")) "
   ]
  },
  {
   "cell_type": "code",
   "execution_count": 9,
   "id": "contrary-depth",
   "metadata": {},
   "outputs": [
    {
     "name": "stdout",
     "output_type": "stream",
     "text": [
      "Model: \"sequential\"\n",
      "_________________________________________________________________\n",
      "Layer (type)                 Output Shape              Param #   \n",
      "=================================================================\n",
      "dense (Dense)                (None, 1)                 3         \n",
      "_________________________________________________________________\n",
      "dense_1 (Dense)              (None, 1)                 2         \n",
      "=================================================================\n",
      "Total params: 5\n",
      "Trainable params: 5\n",
      "Non-trainable params: 0\n",
      "_________________________________________________________________\n"
     ]
    }
   ],
   "source": [
    "# Check the structure of the Sequential model\n",
    "nn_model.summary() "
   ]
  },
  {
   "cell_type": "code",
   "execution_count": 10,
   "id": "handed-crime",
   "metadata": {},
   "outputs": [],
   "source": [
    "# Compile the Sequential model together and customize metrics\n",
    "nn_model.compile(loss=\"binary_crossentropy\", optimizer=\"adam\", metrics=[\"accuracy\"]) "
   ]
  },
  {
   "cell_type": "code",
   "execution_count": 11,
   "id": "considered-dimension",
   "metadata": {},
   "outputs": [
    {
     "name": "stdout",
     "output_type": "stream",
     "text": [
      "Epoch 1/100\n",
      "24/24 [==============================] - 0s 1ms/step - loss: 0.6595 - accuracy: 0.5540\n",
      "Epoch 2/100\n",
      "24/24 [==============================] - 0s 971us/step - loss: 0.6558 - accuracy: 0.7502\n",
      "Epoch 3/100\n",
      "24/24 [==============================] - 0s 724us/step - loss: 0.6461 - accuracy: 0.8054\n",
      "Epoch 4/100\n",
      "24/24 [==============================] - 0s 1ms/step - loss: 0.6418 - accuracy: 0.7863\n",
      "Epoch 5/100\n",
      "24/24 [==============================] - 0s 831us/step - loss: 0.6357 - accuracy: 0.8171\n",
      "Epoch 6/100\n",
      "24/24 [==============================] - 0s 898us/step - loss: 0.6253 - accuracy: 0.8306\n",
      "Epoch 7/100\n",
      "24/24 [==============================] - 0s 792us/step - loss: 0.6125 - accuracy: 0.8740\n",
      "Epoch 8/100\n",
      "24/24 [==============================] - 0s 947us/step - loss: 0.6015 - accuracy: 0.8940\n",
      "Epoch 9/100\n",
      "24/24 [==============================] - 0s 1ms/step - loss: 0.5913 - accuracy: 0.9092\n",
      "Epoch 10/100\n",
      "24/24 [==============================] - 0s 1ms/step - loss: 0.5758 - accuracy: 0.9326\n",
      "Epoch 11/100\n",
      "24/24 [==============================] - 0s 866us/step - loss: 0.5625 - accuracy: 0.9483\n",
      "Epoch 12/100\n",
      "24/24 [==============================] - 0s 815us/step - loss: 0.5361 - accuracy: 0.9751\n",
      "Epoch 13/100\n",
      "24/24 [==============================] - 0s 1ms/step - loss: 0.5309 - accuracy: 0.9737\n",
      "Epoch 14/100\n",
      "24/24 [==============================] - 0s 947us/step - loss: 0.5042 - accuracy: 0.9807\n",
      "Epoch 15/100\n",
      "24/24 [==============================] - 0s 1ms/step - loss: 0.4941 - accuracy: 0.9837\n",
      "Epoch 16/100\n",
      "24/24 [==============================] - 0s 891us/step - loss: 0.4775 - accuracy: 0.9871\n",
      "Epoch 17/100\n",
      "24/24 [==============================] - 0s 801us/step - loss: 0.4529 - accuracy: 0.9937\n",
      "Epoch 18/100\n",
      "24/24 [==============================] - 0s 659us/step - loss: 0.4499 - accuracy: 0.9916\n",
      "Epoch 19/100\n",
      "24/24 [==============================] - 0s 704us/step - loss: 0.4312 - accuracy: 1.0000\n",
      "Epoch 20/100\n",
      "24/24 [==============================] - 0s 713us/step - loss: 0.4136 - accuracy: 1.0000\n",
      "Epoch 21/100\n",
      "24/24 [==============================] - 0s 693us/step - loss: 0.3950 - accuracy: 1.0000\n",
      "Epoch 22/100\n",
      "24/24 [==============================] - 0s 728us/step - loss: 0.3877 - accuracy: 1.0000\n",
      "Epoch 23/100\n",
      "24/24 [==============================] - 0s 665us/step - loss: 0.3684 - accuracy: 1.0000\n",
      "Epoch 24/100\n",
      "24/24 [==============================] - 0s 762us/step - loss: 0.3656 - accuracy: 1.0000\n",
      "Epoch 25/100\n",
      "24/24 [==============================] - 0s 649us/step - loss: 0.3453 - accuracy: 1.0000\n",
      "Epoch 26/100\n",
      "24/24 [==============================] - 0s 681us/step - loss: 0.3373 - accuracy: 1.0000\n",
      "Epoch 27/100\n",
      "24/24 [==============================] - 0s 701us/step - loss: 0.3233 - accuracy: 1.0000\n",
      "Epoch 28/100\n",
      "24/24 [==============================] - 0s 715us/step - loss: 0.3184 - accuracy: 1.0000\n",
      "Epoch 29/100\n",
      "24/24 [==============================] - 0s 824us/step - loss: 0.3103 - accuracy: 1.0000\n",
      "Epoch 30/100\n",
      "24/24 [==============================] - 0s 717us/step - loss: 0.2936 - accuracy: 1.0000\n",
      "Epoch 31/100\n",
      "24/24 [==============================] - 0s 692us/step - loss: 0.2864 - accuracy: 1.0000\n",
      "Epoch 32/100\n",
      "24/24 [==============================] - 0s 686us/step - loss: 0.2686 - accuracy: 1.0000\n",
      "Epoch 33/100\n",
      "24/24 [==============================] - 0s 696us/step - loss: 0.2691 - accuracy: 1.0000\n",
      "Epoch 34/100\n",
      "24/24 [==============================] - 0s 746us/step - loss: 0.2736 - accuracy: 1.0000\n",
      "Epoch 35/100\n",
      "24/24 [==============================] - 0s 724us/step - loss: 0.2586 - accuracy: 1.0000\n",
      "Epoch 36/100\n",
      "24/24 [==============================] - 0s 639us/step - loss: 0.2472 - accuracy: 1.0000\n",
      "Epoch 37/100\n",
      "24/24 [==============================] - 0s 712us/step - loss: 0.2432 - accuracy: 1.0000\n",
      "Epoch 38/100\n",
      "24/24 [==============================] - 0s 738us/step - loss: 0.2299 - accuracy: 1.0000\n",
      "Epoch 39/100\n",
      "24/24 [==============================] - 0s 724us/step - loss: 0.2382 - accuracy: 1.0000\n",
      "Epoch 40/100\n",
      "24/24 [==============================] - 0s 724us/step - loss: 0.2185 - accuracy: 1.0000\n",
      "Epoch 41/100\n",
      "24/24 [==============================] - 0s 742us/step - loss: 0.2193 - accuracy: 1.0000\n",
      "Epoch 42/100\n",
      "24/24 [==============================] - 0s 692us/step - loss: 0.2138 - accuracy: 1.0000\n",
      "Epoch 43/100\n",
      "24/24 [==============================] - 0s 662us/step - loss: 0.2130 - accuracy: 1.0000\n",
      "Epoch 44/100\n",
      "24/24 [==============================] - 0s 716us/step - loss: 0.2084 - accuracy: 1.0000\n",
      "Epoch 45/100\n",
      "24/24 [==============================] - 0s 741us/step - loss: 0.1954 - accuracy: 1.0000\n",
      "Epoch 46/100\n",
      "24/24 [==============================] - 0s 732us/step - loss: 0.1965 - accuracy: 1.0000\n",
      "Epoch 47/100\n",
      "24/24 [==============================] - 0s 743us/step - loss: 0.1858 - accuracy: 1.0000\n",
      "Epoch 48/100\n",
      "24/24 [==============================] - 0s 722us/step - loss: 0.1824 - accuracy: 1.0000\n",
      "Epoch 49/100\n",
      "24/24 [==============================] - 0s 712us/step - loss: 0.1757 - accuracy: 1.0000\n",
      "Epoch 50/100\n",
      "24/24 [==============================] - 0s 740us/step - loss: 0.1746 - accuracy: 1.0000\n",
      "Epoch 51/100\n",
      "24/24 [==============================] - 0s 748us/step - loss: 0.1646 - accuracy: 1.0000\n",
      "Epoch 52/100\n",
      "24/24 [==============================] - 0s 733us/step - loss: 0.1639 - accuracy: 1.0000\n",
      "Epoch 53/100\n",
      "24/24 [==============================] - 0s 649us/step - loss: 0.1702 - accuracy: 1.0000\n",
      "Epoch 54/100\n",
      "24/24 [==============================] - 0s 731us/step - loss: 0.1630 - accuracy: 1.0000\n",
      "Epoch 55/100\n",
      "24/24 [==============================] - 0s 736us/step - loss: 0.1566 - accuracy: 1.0000\n",
      "Epoch 56/100\n",
      "24/24 [==============================] - 0s 569us/step - loss: 0.1555 - accuracy: 1.0000\n",
      "Epoch 57/100\n",
      "24/24 [==============================] - 0s 629us/step - loss: 0.1524 - accuracy: 1.0000\n",
      "Epoch 58/100\n",
      "24/24 [==============================] - 0s 626us/step - loss: 0.1482 - accuracy: 1.0000\n",
      "Epoch 59/100\n",
      "24/24 [==============================] - 0s 739us/step - loss: 0.1378 - accuracy: 1.0000\n",
      "Epoch 60/100\n",
      "24/24 [==============================] - 0s 742us/step - loss: 0.1405 - accuracy: 1.0000\n",
      "Epoch 61/100\n",
      "24/24 [==============================] - 0s 668us/step - loss: 0.1334 - accuracy: 1.0000\n",
      "Epoch 62/100\n",
      "24/24 [==============================] - 0s 659us/step - loss: 0.1340 - accuracy: 1.0000\n",
      "Epoch 63/100\n",
      "24/24 [==============================] - 0s 690us/step - loss: 0.1282 - accuracy: 1.0000\n",
      "Epoch 64/100\n",
      "24/24 [==============================] - 0s 671us/step - loss: 0.1326 - accuracy: 1.0000\n",
      "Epoch 65/100\n",
      "24/24 [==============================] - 0s 715us/step - loss: 0.1275 - accuracy: 1.0000\n",
      "Epoch 66/100\n",
      "24/24 [==============================] - 0s 682us/step - loss: 0.1269 - accuracy: 1.0000\n",
      "Epoch 67/100\n",
      "24/24 [==============================] - 0s 682us/step - loss: 0.1229 - accuracy: 1.0000\n",
      "Epoch 68/100\n",
      "24/24 [==============================] - 0s 680us/step - loss: 0.1234 - accuracy: 1.0000\n",
      "Epoch 69/100\n",
      "24/24 [==============================] - 0s 656us/step - loss: 0.1224 - accuracy: 1.0000\n",
      "Epoch 70/100\n",
      "24/24 [==============================] - 0s 663us/step - loss: 0.1190 - accuracy: 1.0000\n",
      "Epoch 71/100\n",
      "24/24 [==============================] - 0s 675us/step - loss: 0.1146 - accuracy: 1.0000\n",
      "Epoch 72/100\n",
      "24/24 [==============================] - 0s 660us/step - loss: 0.1169 - accuracy: 1.0000\n",
      "Epoch 73/100\n",
      "24/24 [==============================] - 0s 644us/step - loss: 0.1086 - accuracy: 1.0000\n",
      "Epoch 74/100\n",
      "24/24 [==============================] - 0s 632us/step - loss: 0.1051 - accuracy: 1.0000\n",
      "Epoch 75/100\n",
      "24/24 [==============================] - 0s 625us/step - loss: 0.1086 - accuracy: 1.0000\n",
      "Epoch 76/100\n",
      "24/24 [==============================] - 0s 639us/step - loss: 0.1016 - accuracy: 1.0000\n",
      "Epoch 77/100\n",
      "24/24 [==============================] - 0s 636us/step - loss: 0.1067 - accuracy: 1.0000\n",
      "Epoch 78/100\n",
      "24/24 [==============================] - 0s 626us/step - loss: 0.0973 - accuracy: 1.0000\n",
      "Epoch 79/100\n",
      "24/24 [==============================] - 0s 623us/step - loss: 0.0985 - accuracy: 1.0000\n",
      "Epoch 80/100\n",
      "24/24 [==============================] - 0s 620us/step - loss: 0.0957 - accuracy: 1.0000\n",
      "Epoch 81/100\n"
     ]
    },
    {
     "name": "stdout",
     "output_type": "stream",
     "text": [
      "24/24 [==============================] - 0s 635us/step - loss: 0.0947 - accuracy: 1.0000\n",
      "Epoch 82/100\n",
      "24/24 [==============================] - 0s 630us/step - loss: 0.0909 - accuracy: 1.0000\n",
      "Epoch 83/100\n",
      "24/24 [==============================] - 0s 630us/step - loss: 0.0895 - accuracy: 1.0000\n",
      "Epoch 84/100\n",
      "24/24 [==============================] - 0s 612us/step - loss: 0.0891 - accuracy: 1.0000\n",
      "Epoch 85/100\n",
      "24/24 [==============================] - 0s 598us/step - loss: 0.0896 - accuracy: 1.0000\n",
      "Epoch 86/100\n",
      "24/24 [==============================] - 0s 595us/step - loss: 0.0873 - accuracy: 1.0000\n",
      "Epoch 87/100\n",
      "24/24 [==============================] - 0s 601us/step - loss: 0.0841 - accuracy: 1.0000\n",
      "Epoch 88/100\n",
      "24/24 [==============================] - 0s 591us/step - loss: 0.0846 - accuracy: 1.0000\n",
      "Epoch 89/100\n",
      "24/24 [==============================] - 0s 609us/step - loss: 0.0854 - accuracy: 1.0000\n",
      "Epoch 90/100\n",
      "24/24 [==============================] - 0s 606us/step - loss: 0.0814 - accuracy: 1.0000\n",
      "Epoch 91/100\n",
      "24/24 [==============================] - 0s 578us/step - loss: 0.0841 - accuracy: 1.0000\n",
      "Epoch 92/100\n",
      "24/24 [==============================] - 0s 582us/step - loss: 0.0751 - accuracy: 1.0000\n",
      "Epoch 93/100\n",
      "24/24 [==============================] - 0s 600us/step - loss: 0.0805 - accuracy: 1.0000\n",
      "Epoch 94/100\n",
      "24/24 [==============================] - 0s 593us/step - loss: 0.0774 - accuracy: 1.0000\n",
      "Epoch 95/100\n",
      "24/24 [==============================] - 0s 610us/step - loss: 0.0776 - accuracy: 1.0000\n",
      "Epoch 96/100\n",
      "24/24 [==============================] - 0s 620us/step - loss: 0.0757 - accuracy: 1.0000\n",
      "Epoch 97/100\n",
      "24/24 [==============================] - 0s 615us/step - loss: 0.0765 - accuracy: 1.0000\n",
      "Epoch 98/100\n",
      "24/24 [==============================] - 0s 650us/step - loss: 0.0720 - accuracy: 1.0000\n",
      "Epoch 99/100\n",
      "24/24 [==============================] - 0s 627us/step - loss: 0.0729 - accuracy: 1.0000\n",
      "Epoch 100/100\n",
      "24/24 [==============================] - 0s 628us/step - loss: 0.0733 - accuracy: 1.0000\n"
     ]
    }
   ],
   "source": [
    "# Fit the model to the training data\n",
    "fit_model = nn_model.fit(X_train_scaled, y_train, epochs=100) "
   ]
  },
  {
   "cell_type": "code",
   "execution_count": 12,
   "id": "complimentary-flower",
   "metadata": {},
   "outputs": [
    {
     "data": {
      "text/plain": [
       "<matplotlib.axes._subplots.AxesSubplot at 0x7fee172394d0>"
      ]
     },
     "execution_count": 12,
     "metadata": {},
     "output_type": "execute_result"
    },
    {
     "data": {
      "image/png": "[encoded data removed]",
      "text/plain": [
       "<Figure size 432x288 with 1 Axes>"
      ]
     },
     "metadata": {
      "needs_background": "light"
     },
     "output_type": "display_data"
    }
   ],
   "source": [
    "# Create a DataFrame containing training history\n",
    "history_df = pd.DataFrame(fit_model.history, index=range(1,len(fit_model.history[\"loss\"])+1))\n",
    "\n",
    "# Plot the loss\n",
    "history_df.plot(y=\"loss\") "
   ]
  },
  {
   "cell_type": "code",
   "execution_count": 13,
   "id": "aquatic-proportion",
   "metadata": {},
   "outputs": [
    {
     "data": {
      "text/plain": [
       "<matplotlib.axes._subplots.AxesSubplot at 0x7fedfa519b50>"
      ]
     },
     "execution_count": 13,
     "metadata": {},
     "output_type": "execute_result"
    },
    {
     "data": {
      "image/png": "[encoded data removed]",
      "text/plain": [
       "<Figure size 432x288 with 1 Axes>"
      ]
     },
     "metadata": {
      "needs_background": "light"
     },
     "output_type": "display_data"
    }
   ],
   "source": [
    "# Plot the accuracy\n",
    "history_df.plot(y=\"accuracy\") "
   ]
  },
  {
   "cell_type": "code",
   "execution_count": 14,
   "id": "excellent-trustee",
   "metadata": {},
   "outputs": [
    {
     "name": "stdout",
     "output_type": "stream",
     "text": [
      "8/8 - 0s - loss: 0.0662 - accuracy: 1.0000\n",
      "Loss: 0.06616414338350296, Accuracy: 1.0\n"
     ]
    }
   ],
   "source": [
    "# Evaluate the model using the test data\n",
    "model_loss, model_accuracy = nn_model.evaluate(X_test_scaled,y_test,verbose=2)\n",
    "print(f\"Loss: {model_loss}, Accuracy: {model_accuracy}\") "
   ]
  },
  {
   "cell_type": "code",
   "execution_count": 15,
   "id": "funky-positive",
   "metadata": {},
   "outputs": [
    {
     "data": {
      "text/plain": [
       "array([[0],\n",
       "       [1],\n",
       "       [0],\n",
       "       [1],\n",
       "       [0],\n",
       "       [0],\n",
       "       [1],\n",
       "       [1],\n",
       "       [1],\n",
       "       [0]], dtype=int32)"
      ]
     },
     "execution_count": 15,
     "metadata": {},
     "output_type": "execute_result"
    }
   ],
   "source": [
    "# Predict the classification of a new set of blob data\n",
    "new_X, new_Y = make_blobs(n_samples=10, centers=2, n_features=2, random_state=78)\n",
    "new_X_scaled = X_scaler.transform(new_X)\n",
    "(nn_model.predict(new_X_scaled) > 0.5).astype(\"int32\") "
   ]
  },
  {
   "cell_type": "code",
   "execution_count": 16,
   "id": "novel-edgar",
   "metadata": {},
   "outputs": [
    {
     "data": {
      "text/plain": [
       "<matplotlib.axes._subplots.AxesSubplot at 0x7fedfa7435d0>"
      ]
     },
     "execution_count": 16,
     "metadata": {},
     "output_type": "execute_result"
    },
    {
     "data": {
      "image/png": "[encoded data removed]",
      "text/plain": [
       "<Figure size 432x288 with 2 Axes>"
      ]
     },
     "metadata": {
      "needs_background": "light"
     },
     "output_type": "display_data"
    }
   ],
   "source": [
    "from sklearn.datasets import make_moons\n",
    "\n",
    "# Creating dummy nonlinear data\n",
    "X_moons, y_moons = make_moons(n_samples=1000, noise=0.08, random_state=78)\n",
    "\n",
    "# Transforming y_moons to a vertical vector\n",
    "y_moons = y_moons.reshape(-1, 1)\n",
    "\n",
    "# Creating a DataFrame to plot the nonlinear dummy data\n",
    "df_moons = pd.DataFrame(X_moons, columns=[\"Feature 1\", \"Feature 2\"])\n",
    "df_moons[\"Target\"] = y_moons\n",
    "\n",
    "# Plot the nonlinear dummy data\n",
    "df_moons.plot.scatter(x=\"Feature 1\",y=\"Feature 2\", c=\"Target\",colormap=\"winter\")"
   ]
  },
  {
   "cell_type": "code",
   "execution_count": 17,
   "id": "nominated-announcement",
   "metadata": {},
   "outputs": [],
   "source": [
    "# Create training and testing sets\n",
    "X_moon_train, X_moon_test, y_moon_train, y_moon_test = train_test_split(\n",
    "    X_moons, y_moons, random_state=78\n",
    ")\n",
    "\n",
    "# Create the scaler instance\n",
    "X_moon_scaler = skl.preprocessing.StandardScaler()\n",
    "\n",
    "# Fit the scaler\n",
    "X_moon_scaler.fit(X_moon_train)\n",
    "\n",
    "# Scale the data\n",
    "X_moon_train_scaled = X_moon_scaler.transform(X_moon_train)\n",
    "X_moon_test_scaled = X_moon_scaler.transform(X_moon_test) "
   ]
  },
  {
   "cell_type": "code",
   "execution_count": 18,
   "id": "sacred-metadata",
   "metadata": {},
   "outputs": [
    {
     "name": "stdout",
     "output_type": "stream",
     "text": [
      "Epoch 1/100\n",
      "24/24 [==============================] - 0s 1ms/step - loss: 0.7307 - accuracy: 0.6587\n",
      "Epoch 2/100\n",
      "24/24 [==============================] - 0s 1ms/step - loss: 0.6605 - accuracy: 0.6733\n",
      "Epoch 3/100\n",
      "24/24 [==============================] - 0s 1ms/step - loss: 0.6092 - accuracy: 0.6893\n",
      "Epoch 4/100\n",
      "24/24 [==============================] - 0s 1ms/step - loss: 0.5729 - accuracy: 0.6960\n",
      "Epoch 5/100\n",
      "24/24 [==============================] - 0s 1ms/step - loss: 0.5447 - accuracy: 0.7067\n",
      "Epoch 6/100\n",
      "24/24 [==============================] - 0s 1ms/step - loss: 0.5245 - accuracy: 0.7173\n",
      "Epoch 7/100\n",
      "24/24 [==============================] - 0s 1ms/step - loss: 0.5071 - accuracy: 0.7227\n",
      "Epoch 8/100\n",
      "24/24 [==============================] - 0s 1ms/step - loss: 0.4917 - accuracy: 0.7293\n",
      "Epoch 9/100\n",
      "24/24 [==============================] - 0s 1ms/step - loss: 0.4791 - accuracy: 0.7427\n",
      "Epoch 10/100\n",
      "24/24 [==============================] - 0s 1ms/step - loss: 0.4676 - accuracy: 0.7480\n",
      "Epoch 11/100\n",
      "24/24 [==============================] - 0s 1ms/step - loss: 0.4575 - accuracy: 0.7520\n",
      "Epoch 12/100\n",
      "24/24 [==============================] - 0s 1ms/step - loss: 0.4481 - accuracy: 0.7573\n",
      "Epoch 13/100\n",
      "24/24 [==============================] - 0s 1ms/step - loss: 0.4397 - accuracy: 0.7587\n",
      "Epoch 14/100\n",
      "24/24 [==============================] - 0s 1ms/step - loss: 0.4321 - accuracy: 0.7613\n",
      "Epoch 15/100\n",
      "24/24 [==============================] - 0s 991us/step - loss: 0.4247 - accuracy: 0.7640\n",
      "Epoch 16/100\n",
      "24/24 [==============================] - 0s 950us/step - loss: 0.4180 - accuracy: 0.7733\n",
      "Epoch 17/100\n",
      "24/24 [==============================] - 0s 1ms/step - loss: 0.4116 - accuracy: 0.7787\n",
      "Epoch 18/100\n",
      "24/24 [==============================] - 0s 954us/step - loss: 0.4055 - accuracy: 0.7813\n",
      "Epoch 19/100\n",
      "24/24 [==============================] - 0s 1ms/step - loss: 0.3998 - accuracy: 0.7880\n",
      "Epoch 20/100\n",
      "24/24 [==============================] - 0s 887us/step - loss: 0.3944 - accuracy: 0.7907\n",
      "Epoch 21/100\n",
      "24/24 [==============================] - 0s 1ms/step - loss: 0.3890 - accuracy: 0.7947\n",
      "Epoch 22/100\n",
      "24/24 [==============================] - 0s 933us/step - loss: 0.3840 - accuracy: 0.8013\n",
      "Epoch 23/100\n",
      "24/24 [==============================] - 0s 1ms/step - loss: 0.3791 - accuracy: 0.8053\n",
      "Epoch 24/100\n",
      "24/24 [==============================] - 0s 915us/step - loss: 0.3745 - accuracy: 0.8080\n",
      "Epoch 25/100\n",
      "24/24 [==============================] - 0s 1ms/step - loss: 0.3699 - accuracy: 0.8093\n",
      "Epoch 26/100\n",
      "24/24 [==============================] - 0s 941us/step - loss: 0.3657 - accuracy: 0.8120\n",
      "Epoch 27/100\n",
      "24/24 [==============================] - 0s 986us/step - loss: 0.3613 - accuracy: 0.8133\n",
      "Epoch 28/100\n",
      "24/24 [==============================] - 0s 899us/step - loss: 0.3571 - accuracy: 0.8147\n",
      "Epoch 29/100\n",
      "24/24 [==============================] - 0s 1ms/step - loss: 0.3532 - accuracy: 0.8187\n",
      "Epoch 30/100\n",
      "24/24 [==============================] - 0s 1ms/step - loss: 0.3492 - accuracy: 0.8200\n",
      "Epoch 31/100\n",
      "24/24 [==============================] - 0s 999us/step - loss: 0.3455 - accuracy: 0.8213\n",
      "Epoch 32/100\n",
      "24/24 [==============================] - 0s 1ms/step - loss: 0.3418 - accuracy: 0.8227\n",
      "Epoch 33/100\n",
      "24/24 [==============================] - 0s 985us/step - loss: 0.3384 - accuracy: 0.8253\n",
      "Epoch 34/100\n",
      "24/24 [==============================] - 0s 1ms/step - loss: 0.3350 - accuracy: 0.8253\n",
      "Epoch 35/100\n",
      "24/24 [==============================] - 0s 944us/step - loss: 0.3315 - accuracy: 0.8307\n",
      "Epoch 36/100\n",
      "24/24 [==============================] - 0s 1ms/step - loss: 0.3283 - accuracy: 0.8333\n",
      "Epoch 37/100\n",
      "24/24 [==============================] - 0s 1ms/step - loss: 0.3251 - accuracy: 0.8360\n",
      "Epoch 38/100\n",
      "24/24 [==============================] - 0s 931us/step - loss: 0.3221 - accuracy: 0.8387\n",
      "Epoch 39/100\n",
      "24/24 [==============================] - 0s 1ms/step - loss: 0.3192 - accuracy: 0.8387\n",
      "Epoch 40/100\n",
      "24/24 [==============================] - 0s 925us/step - loss: 0.3163 - accuracy: 0.8400\n",
      "Epoch 41/100\n",
      "24/24 [==============================] - 0s 1ms/step - loss: 0.3137 - accuracy: 0.8453\n",
      "Epoch 42/100\n",
      "24/24 [==============================] - 0s 953us/step - loss: 0.3112 - accuracy: 0.8493\n",
      "Epoch 43/100\n",
      "24/24 [==============================] - 0s 1ms/step - loss: 0.3087 - accuracy: 0.8507\n",
      "Epoch 44/100\n",
      "24/24 [==============================] - 0s 983us/step - loss: 0.3062 - accuracy: 0.8507\n",
      "Epoch 45/100\n",
      "24/24 [==============================] - 0s 1ms/step - loss: 0.3040 - accuracy: 0.8507\n",
      "Epoch 46/100\n",
      "24/24 [==============================] - 0s 1ms/step - loss: 0.3018 - accuracy: 0.8520\n",
      "Epoch 47/100\n",
      "24/24 [==============================] - 0s 968us/step - loss: 0.2998 - accuracy: 0.8520\n",
      "Epoch 48/100\n",
      "24/24 [==============================] - 0s 1ms/step - loss: 0.2977 - accuracy: 0.8560\n",
      "Epoch 49/100\n",
      "24/24 [==============================] - 0s 927us/step - loss: 0.2958 - accuracy: 0.8573\n",
      "Epoch 50/100\n",
      "24/24 [==============================] - 0s 1ms/step - loss: 0.2940 - accuracy: 0.8587\n",
      "Epoch 51/100\n",
      "24/24 [==============================] - 0s 925us/step - loss: 0.2923 - accuracy: 0.8613\n",
      "Epoch 52/100\n",
      "24/24 [==============================] - 0s 1ms/step - loss: 0.2907 - accuracy: 0.8613\n",
      "Epoch 53/100\n",
      "24/24 [==============================] - 0s 931us/step - loss: 0.2891 - accuracy: 0.8640\n",
      "Epoch 54/100\n",
      "24/24 [==============================] - 0s 1ms/step - loss: 0.2875 - accuracy: 0.8653\n",
      "Epoch 55/100\n",
      "24/24 [==============================] - 0s 908us/step - loss: 0.2861 - accuracy: 0.8653\n",
      "Epoch 56/100\n",
      "24/24 [==============================] - 0s 929us/step - loss: 0.2847 - accuracy: 0.8667\n",
      "Epoch 57/100\n",
      "24/24 [==============================] - 0s 928us/step - loss: 0.2835 - accuracy: 0.8680\n",
      "Epoch 58/100\n",
      "24/24 [==============================] - 0s 970us/step - loss: 0.2823 - accuracy: 0.8680\n",
      "Epoch 59/100\n",
      "24/24 [==============================] - 0s 941us/step - loss: 0.2810 - accuracy: 0.8680\n",
      "Epoch 60/100\n",
      "24/24 [==============================] - 0s 944us/step - loss: 0.2799 - accuracy: 0.8680\n",
      "Epoch 61/100\n",
      "24/24 [==============================] - 0s 1ms/step - loss: 0.2788 - accuracy: 0.8693\n",
      "Epoch 62/100\n",
      "24/24 [==============================] - 0s 1ms/step - loss: 0.2777 - accuracy: 0.8747\n",
      "Epoch 63/100\n",
      "24/24 [==============================] - 0s 1ms/step - loss: 0.2768 - accuracy: 0.8747\n",
      "Epoch 64/100\n",
      "24/24 [==============================] - 0s 1ms/step - loss: 0.2759 - accuracy: 0.8760\n",
      "Epoch 65/100\n",
      "24/24 [==============================] - 0s 1ms/step - loss: 0.2750 - accuracy: 0.8773\n",
      "Epoch 66/100\n",
      "24/24 [==============================] - 0s 1ms/step - loss: 0.2741 - accuracy: 0.8773\n",
      "Epoch 67/100\n",
      "24/24 [==============================] - 0s 1ms/step - loss: 0.2732 - accuracy: 0.8787\n",
      "Epoch 68/100\n",
      "24/24 [==============================] - 0s 1ms/step - loss: 0.2725 - accuracy: 0.8800\n",
      "Epoch 69/100\n",
      "24/24 [==============================] - 0s 1ms/step - loss: 0.2717 - accuracy: 0.8813\n",
      "Epoch 70/100\n",
      "24/24 [==============================] - 0s 1ms/step - loss: 0.2710 - accuracy: 0.8813\n",
      "Epoch 71/100\n",
      "24/24 [==============================] - 0s 1ms/step - loss: 0.2704 - accuracy: 0.8827\n",
      "Epoch 72/100\n",
      "24/24 [==============================] - 0s 1ms/step - loss: 0.2697 - accuracy: 0.8840\n",
      "Epoch 73/100\n",
      "24/24 [==============================] - 0s 1ms/step - loss: 0.2691 - accuracy: 0.8853\n",
      "Epoch 74/100\n",
      "24/24 [==============================] - 0s 1ms/step - loss: 0.2684 - accuracy: 0.8880\n",
      "Epoch 75/100\n",
      "24/24 [==============================] - 0s 1ms/step - loss: 0.2679 - accuracy: 0.8893\n",
      "Epoch 76/100\n",
      "24/24 [==============================] - 0s 1ms/step - loss: 0.2674 - accuracy: 0.8893\n",
      "Epoch 77/100\n",
      "24/24 [==============================] - 0s 1ms/step - loss: 0.2669 - accuracy: 0.8907\n",
      "Epoch 78/100\n",
      "24/24 [==============================] - 0s 1ms/step - loss: 0.2663 - accuracy: 0.8907\n",
      "Epoch 79/100\n",
      "24/24 [==============================] - 0s 1ms/step - loss: 0.2659 - accuracy: 0.8907\n",
      "Epoch 80/100\n",
      "24/24 [==============================] - 0s 1ms/step - loss: 0.2654 - accuracy: 0.8920\n",
      "Epoch 81/100\n",
      "24/24 [==============================] - 0s 1ms/step - loss: 0.2650 - accuracy: 0.8920\n",
      "Epoch 82/100\n"
     ]
    },
    {
     "name": "stdout",
     "output_type": "stream",
     "text": [
      "24/24 [==============================] - 0s 1ms/step - loss: 0.2645 - accuracy: 0.8920\n",
      "Epoch 83/100\n",
      "24/24 [==============================] - 0s 1ms/step - loss: 0.2641 - accuracy: 0.8933\n",
      "Epoch 84/100\n",
      "24/24 [==============================] - 0s 1ms/step - loss: 0.2637 - accuracy: 0.8933\n",
      "Epoch 85/100\n",
      "24/24 [==============================] - 0s 1ms/step - loss: 0.2633 - accuracy: 0.8933\n",
      "Epoch 86/100\n",
      "24/24 [==============================] - 0s 1ms/step - loss: 0.2630 - accuracy: 0.8933\n",
      "Epoch 87/100\n",
      "24/24 [==============================] - 0s 1ms/step - loss: 0.2627 - accuracy: 0.8933\n",
      "Epoch 88/100\n",
      "24/24 [==============================] - 0s 1ms/step - loss: 0.2623 - accuracy: 0.8933\n",
      "Epoch 89/100\n",
      "24/24 [==============================] - 0s 1ms/step - loss: 0.2620 - accuracy: 0.8933\n",
      "Epoch 90/100\n",
      "24/24 [==============================] - 0s 1ms/step - loss: 0.2618 - accuracy: 0.8933\n",
      "Epoch 91/100\n",
      "24/24 [==============================] - 0s 1ms/step - loss: 0.2614 - accuracy: 0.8933\n",
      "Epoch 92/100\n",
      "24/24 [==============================] - 0s 1ms/step - loss: 0.2610 - accuracy: 0.8920\n",
      "Epoch 93/100\n",
      "24/24 [==============================] - 0s 1ms/step - loss: 0.2607 - accuracy: 0.8920\n",
      "Epoch 94/100\n",
      "24/24 [==============================] - 0s 1ms/step - loss: 0.2604 - accuracy: 0.8920\n",
      "Epoch 95/100\n",
      "24/24 [==============================] - 0s 1ms/step - loss: 0.2603 - accuracy: 0.8920\n",
      "Epoch 96/100\n",
      "24/24 [==============================] - 0s 2ms/step - loss: 0.2599 - accuracy: 0.8907\n",
      "Epoch 97/100\n",
      "24/24 [==============================] - 0s 1ms/step - loss: 0.2596 - accuracy: 0.8907\n",
      "Epoch 98/100\n",
      "24/24 [==============================] - 0s 1ms/step - loss: 0.2594 - accuracy: 0.8907\n",
      "Epoch 99/100\n",
      "24/24 [==============================] - 0s 1ms/step - loss: 0.2592 - accuracy: 0.8920\n",
      "Epoch 100/100\n",
      "24/24 [==============================] - 0s 971us/step - loss: 0.2589 - accuracy: 0.8920\n"
     ]
    }
   ],
   "source": [
    "# Training the model with the nonlinear data\n",
    "model_moon = nn_model.fit(X_moon_train_scaled, y_moon_train, epochs=100, shuffle=True) "
   ]
  },
  {
   "cell_type": "code",
   "execution_count": 19,
   "id": "supported-border",
   "metadata": {},
   "outputs": [
    {
     "data": {
      "text/plain": [
       "<matplotlib.axes._subplots.AxesSubplot at 0x7fedfab8a110>"
      ]
     },
     "execution_count": 19,
     "metadata": {},
     "output_type": "execute_result"
    },
    {
     "data": {
      "image/png": "[encoded data removed]",
      "text/plain": [
       "<Figure size 432x288 with 1 Axes>"
      ]
     },
     "metadata": {
      "needs_background": "light"
     },
     "output_type": "display_data"
    }
   ],
   "source": [
    "# Create a DataFrame containing training history\n",
    "history_df = pd.DataFrame(model_moon.history, index=range(1,len(model_moon.history[\"loss\"])+1))\n",
    "\n",
    "# Plot the loss\n",
    "history_df.plot(y=\"loss\") "
   ]
  },
  {
   "cell_type": "code",
   "execution_count": 20,
   "id": "valued-sellers",
   "metadata": {},
   "outputs": [
    {
     "data": {
      "text/plain": [
       "<matplotlib.axes._subplots.AxesSubplot at 0x7fedfabc5390>"
      ]
     },
     "execution_count": 20,
     "metadata": {},
     "output_type": "execute_result"
    },
    {
     "data": {
      "image/png": "[encoded data removed]",
      "text/plain": [
       "<Figure size 432x288 with 1 Axes>"
      ]
     },
     "metadata": {
      "needs_background": "light"
     },
     "output_type": "display_data"
    }
   ],
   "source": [
    "# Plot the loss\n",
    "history_df.plot(y=\"accuracy\") "
   ]
  },
  {
   "cell_type": "code",
   "execution_count": 21,
   "id": "coastal-enhancement",
   "metadata": {},
   "outputs": [],
   "source": [
    "################\n",
    "################\n",
    "# Generate our new Sequential model\n",
    "new_model = tf.keras.models.Sequential() "
   ]
  },
  {
   "cell_type": "code",
   "execution_count": 22,
   "id": "typical-poetry",
   "metadata": {},
   "outputs": [],
   "source": [
    "# Add the input and hidden layer\n",
    "number_inputs = 2\n",
    "number_hidden_nodes = 6\n",
    "\n",
    "new_model.add(tf.keras.layers.Dense(units=number_hidden_nodes, activation=\"relu\", input_dim=number_inputs))\n",
    "\n",
    "# Add the output layer that uses a probability activation function\n",
    "new_model.add(tf.keras.layers.Dense(units=1, activation=\"sigmoid\"))\n"
   ]
  },
  {
   "cell_type": "code",
   "execution_count": 23,
   "id": "considerable-cruise",
   "metadata": {},
   "outputs": [
    {
     "name": "stdout",
     "output_type": "stream",
     "text": [
      "Epoch 1/100\n",
      "24/24 [==============================] - 0s 768us/step - loss: 0.8489 - accuracy: 0.2845\n",
      "Epoch 2/100\n",
      "24/24 [==============================] - 0s 788us/step - loss: 0.8047 - accuracy: 0.3279\n",
      "Epoch 3/100\n",
      "24/24 [==============================] - 0s 802us/step - loss: 0.7566 - accuracy: 0.4460\n",
      "Epoch 4/100\n",
      "24/24 [==============================] - 0s 924us/step - loss: 0.7294 - accuracy: 0.4993\n",
      "Epoch 5/100\n",
      "24/24 [==============================] - 0s 995us/step - loss: 0.6970 - accuracy: 0.5563\n",
      "Epoch 6/100\n",
      "24/24 [==============================] - 0s 908us/step - loss: 0.6631 - accuracy: 0.6330\n",
      "Epoch 7/100\n",
      "24/24 [==============================] - 0s 1ms/step - loss: 0.6335 - accuracy: 0.6605\n",
      "Epoch 8/100\n",
      "24/24 [==============================] - 0s 1ms/step - loss: 0.6051 - accuracy: 0.7409\n",
      "Epoch 9/100\n",
      "24/24 [==============================] - 0s 1ms/step - loss: 0.5773 - accuracy: 0.7865\n",
      "Epoch 10/100\n",
      "24/24 [==============================] - 0s 990us/step - loss: 0.5462 - accuracy: 0.8309\n",
      "Epoch 11/100\n",
      "24/24 [==============================] - 0s 808us/step - loss: 0.5221 - accuracy: 0.8210\n",
      "Epoch 12/100\n",
      "24/24 [==============================] - 0s 949us/step - loss: 0.4915 - accuracy: 0.8512\n",
      "Epoch 13/100\n",
      "24/24 [==============================] - 0s 835us/step - loss: 0.4803 - accuracy: 0.8235\n",
      "Epoch 14/100\n",
      "24/24 [==============================] - 0s 757us/step - loss: 0.4711 - accuracy: 0.8196\n",
      "Epoch 15/100\n",
      "24/24 [==============================] - 0s 774us/step - loss: 0.4301 - accuracy: 0.8650\n",
      "Epoch 16/100\n",
      "24/24 [==============================] - 0s 642us/step - loss: 0.4232 - accuracy: 0.8489\n",
      "Epoch 17/100\n",
      "24/24 [==============================] - 0s 732us/step - loss: 0.4059 - accuracy: 0.8457\n",
      "Epoch 18/100\n",
      "24/24 [==============================] - 0s 737us/step - loss: 0.3695 - accuracy: 0.8883\n",
      "Epoch 19/100\n",
      "24/24 [==============================] - 0s 748us/step - loss: 0.3617 - accuracy: 0.8820\n",
      "Epoch 20/100\n",
      "24/24 [==============================] - 0s 755us/step - loss: 0.3531 - accuracy: 0.8727\n",
      "Epoch 21/100\n",
      "24/24 [==============================] - 0s 746us/step - loss: 0.3350 - accuracy: 0.8939\n",
      "Epoch 22/100\n",
      "24/24 [==============================] - 0s 620us/step - loss: 0.3230 - accuracy: 0.8933\n",
      "Epoch 23/100\n",
      "24/24 [==============================] - 0s 726us/step - loss: 0.3232 - accuracy: 0.8954\n",
      "Epoch 24/100\n",
      "24/24 [==============================] - 0s 727us/step - loss: 0.3425 - accuracy: 0.8672\n",
      "Epoch 25/100\n",
      "24/24 [==============================] - 0s 738us/step - loss: 0.3039 - accuracy: 0.8945\n",
      "Epoch 26/100\n",
      "24/24 [==============================] - 0s 758us/step - loss: 0.3006 - accuracy: 0.8908\n",
      "Epoch 27/100\n",
      "24/24 [==============================] - 0s 748us/step - loss: 0.2924 - accuracy: 0.8876\n",
      "Epoch 28/100\n",
      "24/24 [==============================] - 0s 671us/step - loss: 0.2809 - accuracy: 0.8937\n",
      "Epoch 29/100\n",
      "24/24 [==============================] - 0s 792us/step - loss: 0.2690 - accuracy: 0.8971\n",
      "Epoch 30/100\n",
      "24/24 [==============================] - 0s 804us/step - loss: 0.2614 - accuracy: 0.8945\n",
      "Epoch 31/100\n",
      "24/24 [==============================] - 0s 809us/step - loss: 0.2658 - accuracy: 0.8936\n",
      "Epoch 32/100\n",
      "24/24 [==============================] - 0s 846us/step - loss: 0.2815 - accuracy: 0.8872\n",
      "Epoch 33/100\n",
      "24/24 [==============================] - 0s 766us/step - loss: 0.2870 - accuracy: 0.8885\n",
      "Epoch 34/100\n",
      "24/24 [==============================] - 0s 792us/step - loss: 0.2783 - accuracy: 0.8905\n",
      "Epoch 35/100\n",
      "24/24 [==============================] - 0s 737us/step - loss: 0.2777 - accuracy: 0.8881\n",
      "Epoch 36/100\n",
      "24/24 [==============================] - 0s 738us/step - loss: 0.2889 - accuracy: 0.8783\n",
      "Epoch 37/100\n",
      "24/24 [==============================] - 0s 636us/step - loss: 0.2894 - accuracy: 0.8796\n",
      "Epoch 38/100\n",
      "24/24 [==============================] - 0s 706us/step - loss: 0.2517 - accuracy: 0.9046\n",
      "Epoch 39/100\n",
      "24/24 [==============================] - 0s 727us/step - loss: 0.2588 - accuracy: 0.8832\n",
      "Epoch 40/100\n",
      "24/24 [==============================] - 0s 747us/step - loss: 0.2488 - accuracy: 0.8936\n",
      "Epoch 41/100\n",
      "24/24 [==============================] - 0s 767us/step - loss: 0.2702 - accuracy: 0.8817\n",
      "Epoch 42/100\n",
      "24/24 [==============================] - 0s 774us/step - loss: 0.2663 - accuracy: 0.8894\n",
      "Epoch 43/100\n",
      "24/24 [==============================] - 0s 708us/step - loss: 0.2604 - accuracy: 0.8906\n",
      "Epoch 44/100\n",
      "24/24 [==============================] - 0s 736us/step - loss: 0.2544 - accuracy: 0.8884\n",
      "Epoch 45/100\n",
      "24/24 [==============================] - 0s 737us/step - loss: 0.2886 - accuracy: 0.8730\n",
      "Epoch 46/100\n",
      "24/24 [==============================] - 0s 782us/step - loss: 0.2762 - accuracy: 0.8753\n",
      "Epoch 47/100\n",
      "24/24 [==============================] - 0s 780us/step - loss: 0.2572 - accuracy: 0.9005\n",
      "Epoch 48/100\n",
      "24/24 [==============================] - 0s 771us/step - loss: 0.2572 - accuracy: 0.8817\n",
      "Epoch 49/100\n",
      "24/24 [==============================] - 0s 802us/step - loss: 0.2429 - accuracy: 0.9078\n",
      "Epoch 50/100\n",
      "24/24 [==============================] - 0s 797us/step - loss: 0.2312 - accuracy: 0.9040\n",
      "Epoch 51/100\n",
      "24/24 [==============================] - 0s 874us/step - loss: 0.2459 - accuracy: 0.8988\n",
      "Epoch 52/100\n",
      "24/24 [==============================] - 0s 735us/step - loss: 0.2315 - accuracy: 0.9072\n",
      "Epoch 53/100\n",
      "24/24 [==============================] - 0s 760us/step - loss: 0.2613 - accuracy: 0.8835\n",
      "Epoch 54/100\n",
      "24/24 [==============================] - 0s 791us/step - loss: 0.2254 - accuracy: 0.9064\n",
      "Epoch 55/100\n",
      "24/24 [==============================] - 0s 672us/step - loss: 0.2373 - accuracy: 0.9072\n",
      "Epoch 56/100\n",
      "24/24 [==============================] - 0s 696us/step - loss: 0.2450 - accuracy: 0.8960\n",
      "Epoch 57/100\n",
      "24/24 [==============================] - 0s 668us/step - loss: 0.2500 - accuracy: 0.8942\n",
      "Epoch 58/100\n",
      "24/24 [==============================] - 0s 668us/step - loss: 0.2672 - accuracy: 0.8965\n",
      "Epoch 59/100\n",
      "24/24 [==============================] - 0s 659us/step - loss: 0.2239 - accuracy: 0.9069\n",
      "Epoch 60/100\n",
      "24/24 [==============================] - 0s 648us/step - loss: 0.2604 - accuracy: 0.8952\n",
      "Epoch 61/100\n",
      "24/24 [==============================] - 0s 650us/step - loss: 0.2469 - accuracy: 0.8986\n",
      "Epoch 62/100\n",
      "24/24 [==============================] - 0s 649us/step - loss: 0.2315 - accuracy: 0.9102\n",
      "Epoch 63/100\n",
      "24/24 [==============================] - 0s 669us/step - loss: 0.2566 - accuracy: 0.8967\n",
      "Epoch 64/100\n",
      "24/24 [==============================] - 0s 678us/step - loss: 0.2735 - accuracy: 0.8884\n",
      "Epoch 65/100\n",
      "24/24 [==============================] - 0s 686us/step - loss: 0.2561 - accuracy: 0.8993\n",
      "Epoch 66/100\n",
      "24/24 [==============================] - 0s 686us/step - loss: 0.2573 - accuracy: 0.8924\n",
      "Epoch 67/100\n",
      "24/24 [==============================] - 0s 677us/step - loss: 0.2507 - accuracy: 0.8954\n",
      "Epoch 68/100\n",
      "24/24 [==============================] - 0s 655us/step - loss: 0.2279 - accuracy: 0.9118\n",
      "Epoch 69/100\n",
      "24/24 [==============================] - 0s 675us/step - loss: 0.2285 - accuracy: 0.9025\n",
      "Epoch 70/100\n",
      "24/24 [==============================] - 0s 672us/step - loss: 0.2520 - accuracy: 0.8984\n",
      "Epoch 71/100\n",
      "24/24 [==============================] - 0s 674us/step - loss: 0.2358 - accuracy: 0.9011\n",
      "Epoch 72/100\n",
      "24/24 [==============================] - 0s 698us/step - loss: 0.2562 - accuracy: 0.8885\n",
      "Epoch 73/100\n",
      "24/24 [==============================] - 0s 676us/step - loss: 0.2501 - accuracy: 0.8949\n",
      "Epoch 74/100\n",
      "24/24 [==============================] - 0s 710us/step - loss: 0.2596 - accuracy: 0.8964\n",
      "Epoch 75/100\n",
      "24/24 [==============================] - 0s 709us/step - loss: 0.2297 - accuracy: 0.9067\n",
      "Epoch 76/100\n",
      "24/24 [==============================] - 0s 731us/step - loss: 0.2534 - accuracy: 0.8961\n",
      "Epoch 77/100\n",
      "24/24 [==============================] - 0s 668us/step - loss: 0.2264 - accuracy: 0.9075\n",
      "Epoch 78/100\n",
      "24/24 [==============================] - 0s 670us/step - loss: 0.2490 - accuracy: 0.8971\n",
      "Epoch 79/100\n",
      "24/24 [==============================] - 0s 659us/step - loss: 0.2334 - accuracy: 0.9035\n",
      "Epoch 80/100\n",
      "24/24 [==============================] - 0s 655us/step - loss: 0.2693 - accuracy: 0.8865\n",
      "Epoch 81/100\n"
     ]
    },
    {
     "name": "stdout",
     "output_type": "stream",
     "text": [
      "24/24 [==============================] - 0s 650us/step - loss: 0.2538 - accuracy: 0.8980\n",
      "Epoch 82/100\n",
      "24/24 [==============================] - 0s 643us/step - loss: 0.2317 - accuracy: 0.9119\n",
      "Epoch 83/100\n",
      "24/24 [==============================] - 0s 667us/step - loss: 0.2238 - accuracy: 0.9134\n",
      "Epoch 84/100\n",
      "24/24 [==============================] - 0s 653us/step - loss: 0.2390 - accuracy: 0.9033\n",
      "Epoch 85/100\n",
      "24/24 [==============================] - 0s 655us/step - loss: 0.2268 - accuracy: 0.9131\n",
      "Epoch 86/100\n",
      "24/24 [==============================] - 0s 650us/step - loss: 0.2612 - accuracy: 0.8947\n",
      "Epoch 87/100\n",
      "24/24 [==============================] - 0s 642us/step - loss: 0.2520 - accuracy: 0.8935\n",
      "Epoch 88/100\n",
      "24/24 [==============================] - 0s 666us/step - loss: 0.2401 - accuracy: 0.9002\n",
      "Epoch 89/100\n",
      "24/24 [==============================] - 0s 639us/step - loss: 0.2553 - accuracy: 0.8923\n",
      "Epoch 90/100\n",
      "24/24 [==============================] - 0s 668us/step - loss: 0.2435 - accuracy: 0.8937\n",
      "Epoch 91/100\n",
      "24/24 [==============================] - 0s 660us/step - loss: 0.2514 - accuracy: 0.8960\n",
      "Epoch 92/100\n",
      "24/24 [==============================] - 0s 655us/step - loss: 0.2742 - accuracy: 0.8745\n",
      "Epoch 93/100\n",
      "24/24 [==============================] - 0s 660us/step - loss: 0.2402 - accuracy: 0.9053\n",
      "Epoch 94/100\n",
      "24/24 [==============================] - 0s 652us/step - loss: 0.2426 - accuracy: 0.8978\n",
      "Epoch 95/100\n",
      "24/24 [==============================] - 0s 655us/step - loss: 0.2398 - accuracy: 0.9097\n",
      "Epoch 96/100\n",
      "24/24 [==============================] - 0s 656us/step - loss: 0.2476 - accuracy: 0.8953\n",
      "Epoch 97/100\n",
      "24/24 [==============================] - 0s 656us/step - loss: 0.2366 - accuracy: 0.9039\n",
      "Epoch 98/100\n",
      "24/24 [==============================] - 0s 642us/step - loss: 0.2578 - accuracy: 0.8907\n",
      "Epoch 99/100\n",
      "24/24 [==============================] - 0s 614us/step - loss: 0.2561 - accuracy: 0.8978\n",
      "Epoch 100/100\n",
      "24/24 [==============================] - 0s 618us/step - loss: 0.2232 - accuracy: 0.9118\n"
     ]
    }
   ],
   "source": [
    "# Compile the Sequential model together and customize metrics\n",
    "new_model.compile(loss=\"binary_crossentropy\", optimizer=\"adam\", metrics=[\"accuracy\"])\n",
    "\n",
    "# Fit the model to the training data\n",
    "new_fit_model = new_model.fit(X_moon_train_scaled, y_moon_train, epochs=100, shuffle=True) "
   ]
  },
  {
   "cell_type": "code",
   "execution_count": null,
   "id": "referenced-projector",
   "metadata": {},
   "outputs": [],
   "source": []
  }
 ],
 "metadata": {
  "kernelspec": {
   "display_name": "PythonData",
   "language": "python",
   "name": "pythondata"
  },
  "language_info": {
   "codemirror_mode": {
    "name": "ipython",
    "version": 3
   },
   "file_extension": ".py",
   "mimetype": "text/x-python",
   "name": "python",
   "nbconvert_exporter": "python",
   "pygments_lexer": "ipython3",
   "version": "3.7.7"
  }
 },
 "nbformat": 4,
 "nbformat_minor": 5
}
